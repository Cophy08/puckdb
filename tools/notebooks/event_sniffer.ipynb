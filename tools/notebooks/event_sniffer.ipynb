{
 "cells": [
  {
   "cell_type": "code",
   "execution_count": 1,
   "metadata": {
    "collapsed": true
   },
   "outputs": [],
   "source": [
    "from collections import OrderedDict\n",
    "from datetime import datetime, timedelta\n",
    "from puckdb import filters, scrapers"
   ]
  },
  {
   "cell_type": "code",
   "execution_count": 2,
   "metadata": {
    "collapsed": true
   },
   "outputs": [],
   "source": [
    "TO_DATE = datetime.utcnow()\n",
    "FROM_DATE = TO_DATE - timedelta(days=30)"
   ]
  },
  {
   "cell_type": "code",
   "execution_count": 3,
   "metadata": {
    "collapsed": false
   },
   "outputs": [],
   "source": [
    "game_filter = filters.GameFilter(from_date=FROM_DATE, to_date=TO_DATE)\n",
    "games = scrapers.GameScraper(game_filter).get()"
   ]
  },
  {
   "cell_type": "code",
   "execution_count": 4,
   "metadata": {
    "collapsed": true
   },
   "outputs": [],
   "source": [
    "def get_all_plays():\n",
    "    for game in games:\n",
    "        for play in game['liveData']['plays']['allPlays']:\n",
    "            yield play"
   ]
  },
  {
   "cell_type": "code",
   "execution_count": 5,
   "metadata": {
    "collapsed": false
   },
   "outputs": [
    {
     "data": {
      "text/plain": [
       "{'about': {'dateTime': '2016-11-20T02:42:05Z',\n",
       "  'eventId': 854,\n",
       "  'eventIdx': 340,\n",
       "  'goals': {'away': 4, 'home': 1},\n",
       "  'ordinalNum': '3rd',\n",
       "  'period': 3,\n",
       "  'periodTime': '20:00',\n",
       "  'periodTimeRemaining': '00:00',\n",
       "  'periodType': 'REGULAR'},\n",
       " 'coordinates': {'x': 69.0, 'y': 23.0},\n",
       " 'players': [],\n",
       " 'result': {'description': 'Game End',\n",
       "  'event': 'Game End',\n",
       "  'eventCode': 'OTT854',\n",
       "  'eventTypeId': 'GAME_END',\n",
       "  'isEmptyNet': False,\n",
       "  'isGameWinningGoal': False,\n",
       "  'penaltyMinutes': 2,\n",
       "  'penaltySeverity': 'Minor',\n",
       "  'secondaryType': 'Wrist Shot',\n",
       "  'strength': {'code': 'EVEN', 'name': 'Even'}},\n",
       " 'team': {'id': 13,\n",
       "  'link': '/api/v1/teams/13',\n",
       "  'name': 'Florida Panthers',\n",
       "  'triCode': 'FLA'}}"
      ]
     },
     "execution_count": 5,
     "metadata": {},
     "output_type": "execute_result"
    }
   ],
   "source": [
    "keys = dict()\n",
    "for play in get_all_plays():\n",
    "    for info, val in play.items():\n",
    "        if isinstance(val, dict):\n",
    "            if info not in keys:\n",
    "                keys[info] = dict()\n",
    "            for subkey, subval in val.items():\n",
    "                keys[info][subkey] = subval\n",
    "        if isinstance(val, list):\n",
    "            if info not in keys:\n",
    "                keys[info] = list()\n",
    "keys"
   ]
  },
  {
   "cell_type": "code",
   "execution_count": 6,
   "metadata": {
    "collapsed": false
   },
   "outputs": [
    {
     "data": {
      "text/plain": [
       "{'BLOCKED_SHOT',\n",
       " 'CHALLENGE',\n",
       " 'EARLY_INT_END',\n",
       " 'EARLY_INT_START',\n",
       " 'FACEOFF',\n",
       " 'GAME_END',\n",
       " 'GAME_OFFICIAL',\n",
       " 'GAME_SCHEDULED',\n",
       " 'GIVEAWAY',\n",
       " 'GOAL',\n",
       " 'HIT',\n",
       " 'MISSED_SHOT',\n",
       " 'PENALTY',\n",
       " 'PERIOD_END',\n",
       " 'PERIOD_OFFICIAL',\n",
       " 'PERIOD_READY',\n",
       " 'PERIOD_START',\n",
       " 'SHOOTOUT_COMPLETE',\n",
       " 'SHOT',\n",
       " 'STOP',\n",
       " 'TAKEAWAY'}"
      ]
     },
     "execution_count": 6,
     "metadata": {},
     "output_type": "execute_result"
    }
   ],
   "source": [
    "event_types = set()\n",
    "for play in get_all_plays():\n",
    "    event_types.add(play['result']['eventTypeId'])\n",
    "event_types"
   ]
  },
  {
   "cell_type": "code",
   "execution_count": 7,
   "metadata": {
    "collapsed": false
   },
   "outputs": [
    {
     "data": {
      "text/plain": [
       "{'Backhand',\n",
       " 'Deflected',\n",
       " 'Slap Shot',\n",
       " 'Snap Shot',\n",
       " 'Tip-In',\n",
       " 'Wrap-around',\n",
       " 'Wrist Shot'}"
      ]
     },
     "execution_count": 7,
     "metadata": {},
     "output_type": "execute_result"
    }
   ],
   "source": [
    "secondary = set()\n",
    "for play in get_all_plays():\n",
    "    if 'secondaryType' in play['result'] and play['result']['eventTypeId'] == 'GOAL':\n",
    "        secondary.add(play['result']['secondaryType'])\n",
    "secondary"
   ]
  },
  {
   "cell_type": "code",
   "execution_count": null,
   "metadata": {
    "collapsed": true
   },
   "outputs": [],
   "source": [
    ""
   ]
  }
 ],
 "metadata": {
  "kernelspec": {
   "display_name": "Python 3",
   "language": "python",
   "name": "python3"
  },
  "language_info": {
   "codemirror_mode": {
    "name": "ipython",
    "version": 3.0
   },
   "file_extension": ".py",
   "mimetype": "text/x-python",
   "name": "python",
   "nbconvert_exporter": "python",
   "pygments_lexer": "ipython3",
   "version": "3.5.1"
  }
 },
 "nbformat": 4,
 "nbformat_minor": 0
}